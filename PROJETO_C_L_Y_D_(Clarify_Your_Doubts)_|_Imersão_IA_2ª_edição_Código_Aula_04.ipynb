{
  "nbformat": 4,
  "nbformat_minor": 0,
  "metadata": {
    "colab": {
      "provenance": [],
      "authorship_tag": "ABX9TyM/8na0W2cwNKZsK2yNrAQb",
      "include_colab_link": true
    },
    "kernelspec": {
      "name": "python3",
      "display_name": "Python 3"
    },
    "language_info": {
      "name": "python"
    }
  },
  "cells": [
    {
      "cell_type": "markdown",
      "metadata": {
        "id": "view-in-github",
        "colab_type": "text"
      },
      "source": [
        "<a href=\"https://colab.research.google.com/github/fabionask/MY-FIRST-LLM---IMERS-O-ALURA/blob/main/PROJETO_C_L_Y_D_(Clarify_Your_Doubts)_%7C_Imers%C3%A3o_IA_2%C2%AA_edi%C3%A7%C3%A3o_C%C3%B3digo_Aula_04.ipynb\" target=\"_parent\"><img src=\"https://colab.research.google.com/assets/colab-badge.svg\" alt=\"Open In Colab\"/></a>"
      ]
    },
    {
      "cell_type": "markdown",
      "source": [
        "**Instalando o SDK do Google**"
      ],
      "metadata": {
        "id": "E3Czp36nPAHl"
      }
    },
    {
      "cell_type": "code",
      "execution_count": 3,
      "metadata": {
        "id": "3pRa2v-VOvUy"
      },
      "outputs": [],
      "source": [
        "!pip install -q -U google-generativeai"
      ]
    },
    {
      "cell_type": "markdown",
      "source": [
        "**Configurações iniciais:**"
      ],
      "metadata": {
        "id": "W25vfxKnPl-A"
      }
    },
    {
      "cell_type": "code",
      "source": [
        "\n",
        "import google.generativeai as genai\n",
        "from google.colab import userdata\n",
        "api_key = userdata.get ('SECRET_KEY')\n",
        "genai.configure(api_key=api_key)"
      ],
      "metadata": {
        "id": "YRMvL3R_Pg1W"
      },
      "execution_count": 28,
      "outputs": []
    },
    {
      "cell_type": "code",
      "source": [
        "#Listando os modelos disponíveis\n",
        "for m in genai.list_models():\n",
        "  if 'generateContent' in m.supported_generation_methods:\n",
        "    print(m.name)"
      ],
      "metadata": {
        "colab": {
          "base_uri": "https://localhost:8080/",
          "height": 139
        },
        "id": "GF0MOrbCPyB6",
        "outputId": "f6fdd780-f505-4d4a-900b-923f651eb383"
      },
      "execution_count": 5,
      "outputs": [
        {
          "output_type": "stream",
          "name": "stdout",
          "text": [
            "models/gemini-1.0-pro\n",
            "models/gemini-1.0-pro-001\n",
            "models/gemini-1.0-pro-latest\n",
            "models/gemini-1.0-pro-vision-latest\n",
            "models/gemini-1.5-pro-latest\n",
            "models/gemini-pro\n",
            "models/gemini-pro-vision\n"
          ]
        }
      ]
    },
    {
      "cell_type": "code",
      "source": [
        "generation_config = {\n",
        "  \"temperature\": 1,\n",
        "  \"top_p\": 0.95,\n",
        "  \"top_k\": 0,\n",
        "  \"max_output_tokens\": 8192,\n",
        "}"
      ],
      "metadata": {
        "id": "5mdyFJtpQK8u"
      },
      "execution_count": 7,
      "outputs": []
    },
    {
      "cell_type": "code",
      "source": [
        "safety_settings={\n",
        "    'HATE': 'BLOCK_NONE',\n",
        "    'HARASSMENT': 'BLOCK_NONE',\n",
        "    'SEXUAL' : 'BLOCK_NONE',\n",
        "    'DANGEROUS' : 'BLOCK_NONE'\n",
        "    }"
      ],
      "metadata": {
        "id": "zfcezL86QbZa"
      },
      "execution_count": 8,
      "outputs": []
    },
    {
      "cell_type": "code",
      "source": [
        "model = genai.GenerativeModel(model_name=\"gemini-1.5-pro-latest\",\n",
        "                              generation_config=generation_config,\n",
        "                              safety_settings=safety_settings)"
      ],
      "metadata": {
        "id": "yePWCGK3Qgeq"
      },
      "execution_count": 21,
      "outputs": []
    },
    {
      "cell_type": "code",
      "source": [
        "response = model.generate_content(\"Qual a diferença entre FEAR e AFRAID OF?\")\n",
        "response.text"
      ],
      "metadata": {
        "colab": {
          "base_uri": "https://localhost:8080/",
          "height": 122
        },
        "id": "YxYBJNJORZM5",
        "outputId": "6298a07b-2fb8-45eb-ed7e-dbb80c7d413b"
      },
      "execution_count": 22,
      "outputs": [
        {
          "output_type": "execute_result",
          "data": {
            "text/plain": [
              "'Em português, FEAR e AFRAID OF podem parecer intercambiáveis, mas existem algumas diferenças sutis em seus usos. Vamos entender cada um:\\n\\n**FEAR:**\\n\\n* **Substantivo:** \"Medo\" em sua forma mais geral, representando um sentimento ou emoção.\\n    * Exemplo: \"Ele sentiu um medo profundo.\" (He felt a deep fear.)\\n* **Verbo:** \"Temer\" ou \"ter medo de\".\\n    * Exemplo: \"Ela teme aranhas.\" (She fears spiders.)\\n\\n**AFRAID OF:**\\n\\n* **Adjetivo + preposição:** Usado para descrever o estado de ter medo de algo específico.\\n    * Exemplo: \"Ele está com medo de altura.\" (He is afraid of heights.)\\n\\n**Diferenças:**\\n\\n* **Foco:** \"Fear\" descreve o medo como sentimento, enquanto \"afraid of\" destaca o objeto ou situação que causa o medo.\\n* **Uso:** \"Fear\" pode ser usado como substantivo e verbo, enquanto \"afraid of\" é sempre uma combinação adjetivo + preposição.\\n* **Formalidade:** \"Fear\" pode ser considerado um pouco mais formal que \"afraid of\".\\n\\n**Em resumo:**\\n\\n* Use **FEAR** quando quiser falar do medo como uma emoção geral ou quando quiser dizer \"temer\" algo.\\n* Use **AFRAID OF** para especificar o objeto ou situação que causa medo.\\n\\nEspero que isso ajude! 😊 \\n'"
            ],
            "application/vnd.google.colaboratory.intrinsic+json": {
              "type": "string"
            }
          },
          "metadata": {},
          "execution_count": 22
        }
      ]
    },
    {
      "cell_type": "code",
      "source": [
        "chat = model.start_chat(history=[])\n",
        "\n",
        "prompt = input('E ai? Posso te ajudar?: ')\n",
        "\n",
        "while prompt != \"Ok, Thanks!\":\n",
        "  response = chat.send_message(prompt)\n",
        "  print(\"Resposta:\", response.text, '\\n\\n')\n",
        "  prompt = input('E ai? Posso te ajudar?: ')"
      ],
      "metadata": {
        "colab": {
          "base_uri": "https://localhost:8080/",
          "height": 1000
        },
        "id": "COaWjTVWR9Ev",
        "outputId": "12c13704-c287-4f52-ff1a-988dec3235cc"
      },
      "execution_count": 24,
      "outputs": [
        {
          "name": "stdout",
          "output_type": "stream",
          "text": [
            "E ai? Posso te ajudar?: Estou com duvidas na diferença do uso de FEAR e AFRAIDO OF?\n",
            "Resposta: Entendo sua dúvida! \"Fear\" e \"afraid of\" são muito parecidos, mas existem diferenças importantes na forma como os usamos. \n",
            "\n",
            "**Fear:**\n",
            "\n",
            "* **Substantivo:**  \"Fear\" é usado como substantivo para expressar o sentimento de medo em si.\n",
            "    * Exemplo: \"He felt a surge of **fear** when he saw the bear.\" (Ele sentiu uma onda de **medo** quando viu o urso.)\n",
            "* **Verbo:** \"Fear\" pode ser usado como verbo para expressar a ação de ter medo de algo.\n",
            "    * Exemplo: \"I **fear** that I won't finish the project on time.\" (Eu **temo** que não vou terminar o projeto a tempo.)\n",
            "\n",
            "**Afraid of:**\n",
            "\n",
            "* **Adjetivo:**  \"Afraid\" é um adjetivo, e \"afraid of\" é uma expressão usada para descrever a sensação de medo em relação a algo específico.\n",
            "    * Exemplo: \"She is **afraid of** spiders.\" (Ela tem **medo de** aranhas.)\n",
            "\n",
            "**Em resumo:**\n",
            "\n",
            "* Use \"**fear**\" quando quiser falar sobre o sentimento de medo em geral, como substantivo ou verbo.\n",
            "* Use \"**afraid of**\" quando quiser dizer que alguém tem medo de algo específico.\n",
            "\n",
            "**Outras observações:**\n",
            "\n",
            "* \"Afraid\" é mais comum na linguagem coloquial, enquanto \"fear\" pode ser mais formal.\n",
            "* \"Fear\" pode ser seguido por um substantivo ou uma oração subordinada, enquanto \"afraid of\" é sempre seguido por um substantivo ou pronome.\n",
            "\n",
            "Espero que isso ajude! 😊 \n",
            " \n",
            "\n",
            "\n",
            "E ai? Posso te ajudar?: Existe video aulas complementares a este assunto? Por favor, Liste links do youtube.\n",
            "Resposta: Infelizmente, não posso pesquisar e fornecer links do YouTube diretamente. Sou um modelo de linguagem e não tenho acesso à internet para navegar e encontrar vídeos específicos. \n",
            "\n",
            "No entanto, posso te dar algumas dicas para encontrar vídeos sobre \"fear\" e \"afraid of\" no YouTube:\n",
            "\n",
            "1. **Use palavras-chave específicas:**\n",
            "    * \"Diferença entre fear e afraid of\"\n",
            "    * \"Gramática inglesa: fear vs afraid of\"\n",
            "    * \"Aprenda inglês: medo e afraid\"\n",
            "2. **Procure por canais confiáveis:**\n",
            "    * Canais de professores de inglês com boa reputação\n",
            "    * Canais de escolas de idiomas\n",
            "    * Canais educativos com foco em gramática\n",
            "3. **Leia a descrição dos vídeos:**\n",
            "    * A descrição do vídeo geralmente resume o conteúdo.\n",
            "    * Verifique se o vídeo aborda a diferença entre \"fear\" e \"afraid of\". \n",
            "4. **Explore os vídeos relacionados:**\n",
            "    * O YouTube sugere vídeos relacionados ao que você está assistindo.\n",
            "    * Essa pode ser uma boa maneira de encontrar mais conteúdo sobre o tema.\n",
            "\n",
            "Lembre-se de que a qualidade dos vídeos pode variar. Preste atenção à linguagem utilizada, à clareza das explicações e à credibilidade do apresentador.\n",
            "\n",
            "Boa sorte em sua pesquisa! 😊 \n",
            " \n",
            "\n",
            "\n",
            "E ai? Posso te ajudar?: Ok, thanks\n",
            "Resposta: De nada! 😊 \n",
            "\n",
            "Se tiver mais alguma dúvida, é só perguntar! \n",
            " \n",
            "\n",
            "\n",
            "E ai? Posso te ajudar?: Ok, Thanks!\n"
          ]
        }
      ]
    },
    {
      "cell_type": "code",
      "source": [
        "chat.history"
      ],
      "metadata": {
        "id": "amImlRh3TYGw"
      },
      "execution_count": null,
      "outputs": []
    },
    {
      "cell_type": "code",
      "source": [
        "#Melhorando a visualização\n",
        "#Código disponível em https://ai.google.dev/tutorials/python_quickstart#import_packages\n",
        "import textwrap\n",
        "from IPython.display import display\n",
        "from IPython.display import Markdown\n",
        "\n",
        "def to_markdown(text):\n",
        "  text = text.replace('•', '  *')\n",
        "  return Markdown(textwrap.indent(text, '> ', predicate=lambda _: True))\n",
        "\n",
        "#Imprimindo o histórico\n",
        "for message in chat.history:\n",
        "  display(to_markdown(f'**{message.role}**: {message.parts[0].text}'))\n",
        "  print('-------------------------------------------')"
      ],
      "metadata": {
        "colab": {
          "base_uri": "https://localhost:8080/",
          "height": 1000
        },
        "id": "TZeh-6gqURGu",
        "outputId": "72f3e88f-02e2-4ac2-f161-b07f69f49451"
      },
      "execution_count": 25,
      "outputs": [
        {
          "output_type": "display_data",
          "data": {
            "text/plain": [
              "<IPython.core.display.Markdown object>"
            ],
            "text/markdown": "> **user**: Estou com duvidas na diferença do uso de FEAR e AFRAIDO OF?"
          },
          "metadata": {}
        },
        {
          "output_type": "stream",
          "name": "stdout",
          "text": [
            "-------------------------------------------\n"
          ]
        },
        {
          "output_type": "display_data",
          "data": {
            "text/plain": [
              "<IPython.core.display.Markdown object>"
            ],
            "text/markdown": "> **model**: Entendo sua dúvida! \"Fear\" e \"afraid of\" são muito parecidos, mas existem diferenças importantes na forma como os usamos. \n> \n> **Fear:**\n> \n> * **Substantivo:**  \"Fear\" é usado como substantivo para expressar o sentimento de medo em si.\n>     * Exemplo: \"He felt a surge of **fear** when he saw the bear.\" (Ele sentiu uma onda de **medo** quando viu o urso.)\n> * **Verbo:** \"Fear\" pode ser usado como verbo para expressar a ação de ter medo de algo.\n>     * Exemplo: \"I **fear** that I won't finish the project on time.\" (Eu **temo** que não vou terminar o projeto a tempo.)\n> \n> **Afraid of:**\n> \n> * **Adjetivo:**  \"Afraid\" é um adjetivo, e \"afraid of\" é uma expressão usada para descrever a sensação de medo em relação a algo específico.\n>     * Exemplo: \"She is **afraid of** spiders.\" (Ela tem **medo de** aranhas.)\n> \n> **Em resumo:**\n> \n> * Use \"**fear**\" quando quiser falar sobre o sentimento de medo em geral, como substantivo ou verbo.\n> * Use \"**afraid of**\" quando quiser dizer que alguém tem medo de algo específico.\n> \n> **Outras observações:**\n> \n> * \"Afraid\" é mais comum na linguagem coloquial, enquanto \"fear\" pode ser mais formal.\n> * \"Fear\" pode ser seguido por um substantivo ou uma oração subordinada, enquanto \"afraid of\" é sempre seguido por um substantivo ou pronome.\n> \n> Espero que isso ajude! 😊 \n"
          },
          "metadata": {}
        },
        {
          "output_type": "stream",
          "name": "stdout",
          "text": [
            "-------------------------------------------\n"
          ]
        },
        {
          "output_type": "display_data",
          "data": {
            "text/plain": [
              "<IPython.core.display.Markdown object>"
            ],
            "text/markdown": "> **user**: Existe video aulas complementares a este assunto? Por favor, Liste links do youtube."
          },
          "metadata": {}
        },
        {
          "output_type": "stream",
          "name": "stdout",
          "text": [
            "-------------------------------------------\n"
          ]
        },
        {
          "output_type": "display_data",
          "data": {
            "text/plain": [
              "<IPython.core.display.Markdown object>"
            ],
            "text/markdown": "> **model**: Infelizmente, não posso pesquisar e fornecer links do YouTube diretamente. Sou um modelo de linguagem e não tenho acesso à internet para navegar e encontrar vídeos específicos. \n> \n> No entanto, posso te dar algumas dicas para encontrar vídeos sobre \"fear\" e \"afraid of\" no YouTube:\n> \n> 1. **Use palavras-chave específicas:**\n>     * \"Diferença entre fear e afraid of\"\n>     * \"Gramática inglesa: fear vs afraid of\"\n>     * \"Aprenda inglês: medo e afraid\"\n> 2. **Procure por canais confiáveis:**\n>     * Canais de professores de inglês com boa reputação\n>     * Canais de escolas de idiomas\n>     * Canais educativos com foco em gramática\n> 3. **Leia a descrição dos vídeos:**\n>     * A descrição do vídeo geralmente resume o conteúdo.\n>     * Verifique se o vídeo aborda a diferença entre \"fear\" e \"afraid of\". \n> 4. **Explore os vídeos relacionados:**\n>     * O YouTube sugere vídeos relacionados ao que você está assistindo.\n>     * Essa pode ser uma boa maneira de encontrar mais conteúdo sobre o tema.\n> \n> Lembre-se de que a qualidade dos vídeos pode variar. Preste atenção à linguagem utilizada, à clareza das explicações e à credibilidade do apresentador.\n> \n> Boa sorte em sua pesquisa! 😊 \n"
          },
          "metadata": {}
        },
        {
          "output_type": "stream",
          "name": "stdout",
          "text": [
            "-------------------------------------------\n"
          ]
        },
        {
          "output_type": "display_data",
          "data": {
            "text/plain": [
              "<IPython.core.display.Markdown object>"
            ],
            "text/markdown": "> **user**: Ok, thanks"
          },
          "metadata": {}
        },
        {
          "output_type": "stream",
          "name": "stdout",
          "text": [
            "-------------------------------------------\n"
          ]
        },
        {
          "output_type": "display_data",
          "data": {
            "text/plain": [
              "<IPython.core.display.Markdown object>"
            ],
            "text/markdown": "> **model**: De nada! 😊 \n> \n> Se tiver mais alguma dúvida, é só perguntar! \n"
          },
          "metadata": {}
        },
        {
          "output_type": "stream",
          "name": "stdout",
          "text": [
            "-------------------------------------------\n"
          ]
        }
      ]
    }
  ]
}